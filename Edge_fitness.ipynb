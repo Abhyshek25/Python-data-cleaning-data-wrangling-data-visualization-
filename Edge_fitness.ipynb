{
 "cells": [
  {
   "cell_type": "code",
   "execution_count": 1,
   "metadata": {
    "colab": {
     "base_uri": "https://localhost:8080/"
    },
    "id": "NMg7OmoPkQ4r",
    "outputId": "3d7ec80d-0f12-44de-99be-0b9dbfc4f587"
   },
   "outputs": [
    {
     "name": "stdout",
     "output_type": "stream",
     "text": [
      "True\n",
      "True\n"
     ]
    }
   ],
   "source": [
    "import pandas as pd\n",
    "import numpy as np\n",
    "import matplotlib.pyplot as plt\n",
    "import seaborn as sns\n",
    "import datetime\n",
    "\n",
    "lookup = pd.read_excel('Lookup_Table.xlsx')\n",
    "lookup2 = pd.read_excel('Lookup_Table.xlsx',sheet_name=1)\n",
    "trans = pd.read_csv('Transactions.csv')\n",
    "active = pd.read_csv('active_members_(1).csv')\n",
    "\n",
    "print(lookup.shape[0] == len(lookup['Profit Center'].unique()))\n",
    "\n",
    "print(lookup2.shape[0] == len(lookup2['Membership Type'].unique()))\n",
    "\n",
    "#Transactions.csv- add a column to this data structure titled “consolidated_profit_centers” using the file “Lookup Table”, Tab = “Transactions”\n",
    "dict_lookup = dict(zip(lookup['Profit Center'], lookup['Consolidated Profit Centers']))\n",
    "trans['consolidated_profit_centers'] = trans['Profit Center'].map(dict_lookup)\n",
    "\n",
    "#Active_members(1).csv- add a column to this data structure titled “consolidated_mem_types” using the file “Lookup Table”, Tab = “Membership_Types”\n",
    "dict_lookup2 = dict(zip(lookup2['Membership Type'], lookup2['Membership Type Consolidated']))\n",
    "active['consolidated_mem_types'] = active['Membership Type'].map(dict_lookup2)"
   ]
  },
  {
   "cell_type": "code",
   "execution_count": 2,
   "metadata": {
    "colab": {
     "base_uri": "https://localhost:8080/"
    },
    "id": "2LnzOdtZs02a",
    "outputId": "c3c7fb98-53ff-4701-a827-055f153afc7a"
   },
   "outputs": [
    {
     "name": "stdout",
     "output_type": "stream",
     "text": [
      "<class 'pandas.core.frame.DataFrame'>\n",
      "RangeIndex: 17083 entries, 0 to 17082\n",
      "Data columns (total 6 columns):\n",
      "Club Number               17083 non-null int64\n",
      "Agreement Number          17083 non-null int64\n",
      "Membership Type           17083 non-null object\n",
      "Since Date                17083 non-null object\n",
      "Invoice  Amount           17083 non-null float64\n",
      "consolidated_mem_types    17083 non-null object\n",
      "dtypes: float64(1), int64(2), object(3)\n",
      "memory usage: 800.8+ KB\n"
     ]
    }
   ],
   "source": [
    "active.info()"
   ]
  },
  {
   "cell_type": "code",
   "execution_count": 3,
   "metadata": {
    "colab": {
     "base_uri": "https://localhost:8080/"
    },
    "id": "rrC71_QntHiu",
    "outputId": "f9f80104-b8da-40e9-f4ec-2a34b3b30852"
   },
   "outputs": [
    {
     "name": "stdout",
     "output_type": "stream",
     "text": [
      "<class 'pandas.core.frame.DataFrame'>\n",
      "RangeIndex: 23086 entries, 0 to 23085\n",
      "Data columns (total 7 columns):\n",
      "Payment Made At                23086 non-null int64\n",
      "Home Club                      23086 non-null int64\n",
      "Agreement Number               23086 non-null object\n",
      "Profit Center                  23086 non-null object\n",
      "Payment Date                   23086 non-null int64\n",
      "Payment Amount                 23086 non-null float64\n",
      "consolidated_profit_centers    23086 non-null object\n",
      "dtypes: float64(1), int64(3), object(3)\n",
      "memory usage: 1.2+ MB\n"
     ]
    }
   ],
   "source": [
    "#MISSING OR IMPROPER VALUES IN AGREEMENT NUMBER COLUMN\n",
    "trans.info()"
   ]
  },
  {
   "cell_type": "code",
   "execution_count": 4,
   "metadata": {
    "colab": {
     "base_uri": "https://localhost:8080/"
    },
    "id": "1D9giD6_sjIx",
    "outputId": "a6a2bc6f-6a85-4e32-ae03-15c9dd6551f7"
   },
   "outputs": [
    {
     "name": "stderr",
     "output_type": "stream",
     "text": [
      "C:\\Users\\admin\\Anaconda3\\lib\\site-packages\\ipykernel_launcher.py:3: SettingWithCopyWarning: \n",
      "A value is trying to be set on a copy of a slice from a DataFrame.\n",
      "Try using .loc[row_indexer,col_indexer] = value instead\n",
      "\n",
      "See the caveats in the documentation: http://pandas.pydata.org/pandas-docs/stable/indexing.html#indexing-view-versus-copy\n",
      "  This is separate from the ipykernel package so we can avoid doing imports until\n"
     ]
    }
   ],
   "source": [
    "#New trans table free of contamination\n",
    "transn = trans[trans['Agreement Number'].str.isdigit()==True]\n",
    "transn['Agreement Number'] = transn['Agreement Number'].astype(int)\n",
    "#Merge the active_members(1) file to the transactions file using agreement number\n",
    "trans['Agreement Number'].replace('#VALUE!',0,inplace = True)\n",
    "trans['Agreement Number'] = pd.to_numeric(trans['Agreement Number'])\n",
    "df = pd.merge(trans,active,on = 'Agreement Number')"
   ]
  },
  {
   "cell_type": "code",
   "execution_count": 5,
   "metadata": {
    "colab": {
     "base_uri": "https://localhost:8080/",
     "height": 195
    },
    "id": "XE05h7oBmZ45",
    "outputId": "cedf3082-eebe-47e9-c60c-f1b479b26075"
   },
   "outputs": [
    {
     "name": "stdout",
     "output_type": "stream",
     "text": [
      "  consolidated_profit_centers  Payment Amount\n",
      "0                     Fitness       85231.505\n",
      "1                  Membership      331272.680\n",
      "2             Membership Cash       27529.000\n",
      "3                       Other        8506.845\n",
      "4                      Retail       13836.760\n",
      "  consolidated_profit_centers  Payment Amount\n",
      "0                     Fitness       76291.575\n",
      "1                  Membership      327625.080\n",
      "2             Membership Cash       25170.305\n",
      "3                       Other        6965.865\n",
      "4                      Retail        8468.145\n"
     ]
    }
   ],
   "source": [
    "#Summarize transactions by consolidated_profit_centers\n",
    "dff = trans.groupby(['consolidated_profit_centers'])['Payment Amount'].sum().reset_index()\n",
    "print(dff)\n",
    "\n",
    "#Summarize transactions by consolidated_profit_centers\n",
    "dff = df.groupby(['consolidated_profit_centers'])['Payment Amount'].sum().reset_index()\n",
    "print(dff)"
   ]
  },
  {
   "cell_type": "code",
   "execution_count": 6,
   "metadata": {},
   "outputs": [
    {
     "data": {
      "text/plain": [
       "<matplotlib.axes._subplots.AxesSubplot at 0x23d302acf60>"
      ]
     },
     "execution_count": 6,
     "metadata": {},
     "output_type": "execute_result"
    },
    {
     "data": {
      "image/png": "[encoded data removed]",
      "text/plain": [
       "<Figure size 1440x1440 with 1 Axes>"
      ]
     },
     "metadata": {
      "needs_background": "light"
     },
     "output_type": "display_data"
    }
   ],
   "source": [
    "fig, ax = plt.subplots()\n",
    "fig.set_size_inches(20,20)\n",
    "\n",
    "sns.barplot(x = 'consolidated_profit_centers' , y = 'Payment Amount',data = dff)"
   ]
  },
  {
   "cell_type": "code",
   "execution_count": 7,
   "metadata": {
    "colab": {
     "base_uri": "https://localhost:8080/",
     "height": 136
    },
    "id": "AiThRwfjnJr3",
    "outputId": "62feeea0-d164-4fa8-c6b8-2bf6ec79460f"
   },
   "outputs": [
    {
     "name": "stdout",
     "output_type": "stream",
     "text": [
      "   Payment Made At  Payment Amount\n",
      "0              132      161456.420\n",
      "1             1247      214704.965\n",
      "2             8144       90215.405\n",
      "   Payment Made At  Payment Amount\n",
      "0              132      150483.655\n",
      "1             1247      205508.365\n",
      "2             8144       88528.950\n"
     ]
    }
   ],
   "source": [
    "#What is the $ value of transactions broken out by the “payment made at” field?\n",
    "dff = trans.groupby(['Payment Made At'])['Payment Amount'].sum().reset_index()\n",
    "print(dff)\n",
    "\n",
    "#41 new\n",
    "dff = df.groupby(['Payment Made At'])['Payment Amount'].sum().reset_index()\n",
    "print(dff)"
   ]
  },
  {
   "cell_type": "code",
   "execution_count": 8,
   "metadata": {
    "colab": {
     "base_uri": "https://localhost:8080/"
    },
    "id": "-qiElOqNnKZr",
    "outputId": "5a472917-cb7a-4105-e9d7-d1f6f08fe8a0"
   },
   "outputs": [
    {
     "name": "stdout",
     "output_type": "stream",
     "text": [
      "Retail  :  873\n",
      "Other  :  752\n",
      "Membership  :  12100\n",
      "Fitness  :  1100\n",
      "Membership Cash  :  658\n"
     ]
    },
    {
     "data": {
      "text/plain": [
       "[None, None, None, None, None]"
      ]
     },
     "execution_count": 8,
     "metadata": {},
     "output_type": "execute_result"
    }
   ],
   "source": [
    "#What is the unique count of agreement numbers within each consolidated_profit_center\n",
    "agree_profit = trans.drop_duplicates(subset=['consolidated_profit_centers','Agreement Number'],keep='first')\n",
    "[print(i,' : ',agree_profit[agree_profit['consolidated_profit_centers']==i].shape[0]) for i in agree_profit['consolidated_profit_centers'].unique()] "
   ]
  },
  {
   "cell_type": "code",
   "execution_count": 9,
   "metadata": {},
   "outputs": [
    {
     "data": {
      "text/html": [
       "<div>\n",
       "<style scoped>\n",
       "    .dataframe tbody tr th:only-of-type {\n",
       "        vertical-align: middle;\n",
       "    }\n",
       "\n",
       "    .dataframe tbody tr th {\n",
       "        vertical-align: top;\n",
       "    }\n",
       "\n",
       "    .dataframe thead th {\n",
       "        text-align: right;\n",
       "    }\n",
       "</style>\n",
       "<table border=\"1\" class=\"dataframe\">\n",
       "  <thead>\n",
       "    <tr style=\"text-align: right;\">\n",
       "      <th></th>\n",
       "      <th>consolidated_profit_centers</th>\n",
       "      <th>Payment Amount</th>\n",
       "    </tr>\n",
       "  </thead>\n",
       "  <tbody>\n",
       "    <tr>\n",
       "      <th>0</th>\n",
       "      <td>Fitness</td>\n",
       "      <td>13128.650</td>\n",
       "    </tr>\n",
       "    <tr>\n",
       "      <th>1</th>\n",
       "      <td>Membership</td>\n",
       "      <td>300881.070</td>\n",
       "    </tr>\n",
       "    <tr>\n",
       "      <th>2</th>\n",
       "      <td>Membership Cash</td>\n",
       "      <td>22058.510</td>\n",
       "    </tr>\n",
       "    <tr>\n",
       "      <th>3</th>\n",
       "      <td>Other</td>\n",
       "      <td>4962.710</td>\n",
       "    </tr>\n",
       "    <tr>\n",
       "      <th>4</th>\n",
       "      <td>Retail</td>\n",
       "      <td>3462.255</td>\n",
       "    </tr>\n",
       "  </tbody>\n",
       "</table>\n",
       "</div>"
      ],
      "text/plain": [
       "  consolidated_profit_centers  Payment Amount\n",
       "0                     Fitness       13128.650\n",
       "1                  Membership      300881.070\n",
       "2             Membership Cash       22058.510\n",
       "3                       Other        4962.710\n",
       "4                      Retail        3462.255"
      ]
     },
     "execution_count": 9,
     "metadata": {},
     "output_type": "execute_result"
    }
   ],
   "source": [
    "#total $ amount\n",
    "agree_profit.groupby('consolidated_profit_centers')['Payment Amount'].sum().reset_index()"
   ]
  },
  {
   "cell_type": "code",
   "execution_count": 10,
   "metadata": {},
   "outputs": [
    {
     "name": "stdout",
     "output_type": "stream",
     "text": [
      "Membership         12100\n",
      "Fitness             1100\n",
      "Retail               873\n",
      "Other                752\n",
      "Membership Cash      658\n",
      "Name: consolidated_profit_centers, dtype: int64\n"
     ]
    }
   ],
   "source": [
    "#unique count\n",
    "print(agree_profit['consolidated_profit_centers'].value_counts())"
   ]
  },
  {
   "cell_type": "code",
   "execution_count": 11,
   "metadata": {},
   "outputs": [
    {
     "data": {
      "text/plain": [
       "<matplotlib.axes._subplots.AxesSubplot at 0x23d347819e8>"
      ]
     },
     "execution_count": 11,
     "metadata": {},
     "output_type": "execute_result"
    },
    {
     "data": {
      "image/png": "[encoded data removed]",
      "text/plain": [
       "<Figure size 432x288 with 1 Axes>"
      ]
     },
     "metadata": {
      "needs_background": "light"
     },
     "output_type": "display_data"
    }
   ],
   "source": [
    "agree_profit['consolidated_profit_centers'].value_counts().plot.bar()"
   ]
  },
  {
   "cell_type": "code",
   "execution_count": 12,
   "metadata": {},
   "outputs": [
    {
     "name": "stdout",
     "output_type": "stream",
     "text": [
      "Fitness            11.935136\n",
      "Membership         24.866204\n",
      "Membership Cash    33.523571\n",
      "Other               6.599348\n",
      "Retail              3.965928\n",
      "dtype: float64\n"
     ]
    }
   ],
   "source": [
    "#average value\n",
    "print(agree_profit.groupby('consolidated_profit_centers')['Payment Amount'].sum()/agree_profit['consolidated_profit_centers'].value_counts())"
   ]
  },
  {
   "cell_type": "code",
   "execution_count": 13,
   "metadata": {},
   "outputs": [
    {
     "data": {
      "text/plain": [
       "<matplotlib.axes._subplots.AxesSubplot at 0x23d33fbf630>"
      ]
     },
     "execution_count": 13,
     "metadata": {},
     "output_type": "execute_result"
    },
    {
     "data": {
      "image/png": "[encoded data removed]",
      "text/plain": [
       "<Figure size 432x288 with 1 Axes>"
      ]
     },
     "metadata": {
      "needs_background": "light"
     },
     "output_type": "display_data"
    }
   ],
   "source": [
    "(agree_profit.groupby('consolidated_profit_centers')['Payment Amount'].sum()/agree_profit['consolidated_profit_centers'].value_counts()).plot.bar()"
   ]
  },
  {
   "cell_type": "code",
   "execution_count": 14,
   "metadata": {
    "colab": {
     "base_uri": "https://localhost:8080/",
     "height": 1000
    },
    "id": "wOED-GlUx53i",
    "outputId": "7d2945f0-8401-479b-d576-ea959239ae0c"
   },
   "outputs": [
    {
     "name": "stdout",
     "output_type": "stream",
     "text": [
      "       Membership Type consolidated_profit_centers  Payment Amount\n",
      "0               ADDLCD                  Membership          10.015\n",
      "1               EDGECP                     Fitness         106.155\n",
      "2               EDGECP                  Membership        1836.610\n",
      "3               EDGECP                       Other          42.425\n",
      "4               EDGECP                      Retail           5.050\n",
      "5                 EFIT                     Fitness       38521.775\n",
      "6                 EFIT                  Membership      212548.540\n",
      "7                 EFIT             Membership Cash        1725.505\n",
      "8                 EFIT                       Other        2783.950\n",
      "9                 EFIT                      Retail        3829.415\n",
      "10              EFITCO                     Fitness           0.100\n",
      "11              EFITCO                  Membership          58.585\n",
      "12              EFITCO                       Other           1.110\n",
      "13              EFITPF                     Fitness        4037.740\n",
      "14              EFITPF                  Membership          26.605\n",
      "15              EFITPF             Membership Cash        5522.175\n",
      "16              EFITPF                       Other         539.550\n",
      "17              EFITPF                      Retail         457.410\n",
      "18               EFITS                     Fitness         181.735\n",
      "19               EFITS             Membership Cash         404.190\n",
      "20               EFITS                      Retail           8.575\n",
      "21                 EMP                     Fitness         771.975\n",
      "22                 EMP                  Membership         206.435\n",
      "23                 EMP                       Other         706.930\n",
      "24                 EMP                      Retail        1587.120\n",
      "25               FSTCD                  Membership          40.060\n",
      "26  No Membership Type                  Membership          27.645\n",
      "27              PIFPLT                     Fitness        1205.675\n",
      "28                 RED                     Fitness       10066.420\n",
      "29                 RED                  Membership       22289.030\n",
      "30                 RED             Membership Cash        7819.675\n",
      "31                 RED                       Other         318.700\n",
      "32                 RED                      Retail         809.510\n",
      "33              REDPIF                     Fitness        1023.200\n",
      "34              REDPIF                  Membership         170.280\n",
      "35              REDPIF             Membership Cash        6641.910\n",
      "36              REDPIF                       Other         128.030\n",
      "37              REDPIF                      Retail          45.275\n",
      "38              RESTUD                     Fitness        1165.325\n",
      "39              RESTUD             Membership Cash         210.630\n",
      "40              RESTUD                       Other          47.725\n",
      "41              RESTUD                      Retail           8.050\n",
      "42              SHORTT                     Fitness           0.050\n",
      "43              SHORTT                  Membership         125.550\n",
      "44              SHORTT             Membership Cash         264.860\n",
      "45              STNOTA                  Membership         104.270\n",
      "46               TOTAL                     Fitness       17780.490\n",
      "47               TOTAL                  Membership       90129.320\n",
      "48               TOTAL             Membership Cash        1687.990\n",
      "49               TOTAL                       Other        2066.535\n",
      "50               TOTAL                      Retail        1608.700\n",
      "51              TTLPIF                     Fitness        1430.910\n",
      "52              TTLPIF             Membership Cash         893.370\n",
      "53              TTLPIF                       Other         330.910\n",
      "54              TTLPIF                      Retail         109.040\n",
      "55                TTLS                     Fitness           0.025\n",
      "56                TTLS                  Membership          52.135\n"
     ]
    }
   ],
   "source": [
    "#What is the $ value of each consolidated_profit_center  by “Membership_Types”\n",
    "dff = df.groupby(['Membership Type','consolidated_profit_centers'])['Payment Amount'].sum().reset_index()\n",
    "print(dff)"
   ]
  },
  {
   "cell_type": "code",
   "execution_count": 15,
   "metadata": {},
   "outputs": [
    {
     "name": "stderr",
     "output_type": "stream",
     "text": [
      "C:\\Users\\admin\\Anaconda3\\lib\\site-packages\\scipy\\stats\\stats.py:1713: FutureWarning: Using a non-tuple sequence for multidimensional indexing is deprecated; use `arr[tuple(seq)]` instead of `arr[seq]`. In the future this will be interpreted as an array index, `arr[np.array(seq)]`, which will result either in an error or a different result.\n",
      "  return np.add.reduce(sorted[indexer] * weights, axis=axis) / sumval\n"
     ]
    },
    {
     "data": {
      "text/plain": [
       "<matplotlib.axes._subplots.AxesSubplot at 0x23d34038320>"
      ]
     },
     "execution_count": 15,
     "metadata": {},
     "output_type": "execute_result"
    },
    {
     "data": {
      "image/png": "[encoded data removed]",
      "text/plain": [
       "<Figure size 1440x1440 with 1 Axes>"
      ]
     },
     "metadata": {
      "needs_background": "light"
     },
     "output_type": "display_data"
    }
   ],
   "source": [
    "import matplotlib.pyplot as plt\n",
    "fig, ax = plt.subplots()\n",
    "# the size of A4 paper\n",
    "fig.set_size_inches(20,20)\n",
    "\n",
    "sns.barplot(x = 'Membership Type', y ='Payment Amount',data = dff)"
   ]
  },
  {
   "cell_type": "code",
   "execution_count": 16,
   "metadata": {},
   "outputs": [],
   "source": [
    "# Adjust payment date to show as a serial date (ex: 09/01/2020)\n",
    "def timerang(strc):\n",
    "    temp = datetime.datetime.strptime(str(strc), \"%m%d%Y\")\n",
    "    return temp\n",
    "\n",
    "df['Payment Date'] = df['Payment Date'].apply(timerang)"
   ]
  },
  {
   "cell_type": "code",
   "execution_count": 17,
   "metadata": {},
   "outputs": [
    {
     "data": {
      "text/plain": [
       "0       2020-09-10\n",
       "1       2020-09-01\n",
       "2       2020-09-16\n",
       "3       2020-09-04\n",
       "4       2020-09-22\n",
       "5       2020-09-01\n",
       "6       2020-09-02\n",
       "7       2020-09-08\n",
       "8       2020-09-09\n",
       "9       2020-09-14\n",
       "10      2020-09-17\n",
       "11      2020-09-21\n",
       "12      2020-09-21\n",
       "13      2020-09-24\n",
       "14      2020-09-25\n",
       "15      2020-09-29\n",
       "16      2020-09-04\n",
       "17      2020-09-30\n",
       "18      2020-09-14\n",
       "19      2020-09-01\n",
       "20      2020-09-14\n",
       "21      2020-09-22\n",
       "22      2020-09-17\n",
       "23      2020-09-17\n",
       "24      2020-09-14\n",
       "25      2020-09-14\n",
       "26      2020-09-08\n",
       "27      2020-09-08\n",
       "28      2020-09-09\n",
       "29      2020-09-09\n",
       "           ...    \n",
       "20830   2020-09-22\n",
       "20831   2020-09-29\n",
       "20832   2020-09-08\n",
       "20833   2020-09-08\n",
       "20834   2020-09-12\n",
       "20835   2020-09-12\n",
       "20836   2020-09-21\n",
       "20837   2020-09-21\n",
       "20838   2020-09-02\n",
       "20839   2020-09-24\n",
       "20840   2020-09-14\n",
       "20841   2020-09-28\n",
       "20842   2020-09-01\n",
       "20843   2020-09-05\n",
       "20844   2020-09-13\n",
       "20845   2020-09-24\n",
       "20846   2020-09-26\n",
       "20847   2020-09-30\n",
       "20848   2020-09-08\n",
       "20849   2020-09-23\n",
       "20850   2020-09-21\n",
       "20851   2020-09-23\n",
       "20852   2020-09-09\n",
       "20853   2020-09-08\n",
       "20854   2020-09-15\n",
       "20855   2020-09-08\n",
       "20856   2020-09-08\n",
       "20857   2020-09-10\n",
       "20858   2020-09-14\n",
       "20859   2020-09-14\n",
       "Name: Payment Date, Length: 20860, dtype: datetime64[ns]"
      ]
     },
     "execution_count": 17,
     "metadata": {},
     "output_type": "execute_result"
    }
   ],
   "source": [
    "df['Payment Date']"
   ]
  },
  {
   "cell_type": "code",
   "execution_count": 18,
   "metadata": {
    "id": "GrUyWvYMEtUE"
   },
   "outputs": [],
   "source": [
    "import datetime"
   ]
  },
  {
   "cell_type": "code",
   "execution_count": 19,
   "metadata": {
    "id": "nGal-hCtERpr"
   },
   "outputs": [],
   "source": [
    "#Create a new field in the merged transactions and active_members datasets called “time_range”. This field will be a calculation (shown in years) of today minus the “since date” column in the active_members(1) file. Make sure this field is rounded to the nearest integer. So for example an agreement with a since date of 12/20/2018 would have a “time_range” equal to “2”\n",
    "\n",
    "def timerange(strc):\n",
    "    temp = datetime.datetime.strptime(strc, \"%m/%d/%Y\")\n",
    "    now = datetime.datetime.now() \n",
    "    a = now - temp\n",
    "    return round(a.days/365)\n",
    "a = df['Since Date'].astype(str)\n",
    "df['time_range'] = a.apply(timerange)"
   ]
  },
  {
   "cell_type": "code",
   "execution_count": 20,
   "metadata": {},
   "outputs": [
    {
     "data": {
      "text/plain": [
       "<matplotlib.axes._subplots.AxesSubplot at 0x23d34038dd8>"
      ]
     },
     "execution_count": 20,
     "metadata": {},
     "output_type": "execute_result"
    },
    {
     "data": {
      "image/png": "[encoded data removed]",
      "text/plain": [
       "<Figure size 432x288 with 1 Axes>"
      ]
     },
     "metadata": {
      "needs_background": "light"
     },
     "output_type": "display_data"
    }
   ],
   "source": [
    "sns.boxplot(x = df['time_range'])"
   ]
  },
  {
   "cell_type": "code",
   "execution_count": 21,
   "metadata": {},
   "outputs": [
    {
     "data": {
      "text/plain": [
       "time split\n",
       "1-2    128542.490\n",
       "3-5     76081.605\n",
       "5+     132873.115\n",
       "Name: Payment Amount, dtype: float64"
      ]
     },
     "execution_count": 21,
     "metadata": {},
     "output_type": "execute_result"
    }
   ],
   "source": [
    "#Summarize $ value of transactions by time_range- include sum total and unique agreement numbers \n",
    "def time_split(time):\n",
    "    if time>0 and time<1:\n",
    "        return '0-1'\n",
    "    elif time>=1 and time<2:\n",
    "        return '1-2'\n",
    "    elif time>=3 and time<5:\n",
    "        return '3-5'\n",
    "    elif time >=5:\n",
    "        return '5+'\n",
    "    elif time  == np.NaN:\n",
    "        return 'NA'\n",
    "    \n",
    "df['time split'] = df['time_range'].apply(time_split)\n",
    "\n",
    "df.groupby(['time split'])['Payment Amount'].sum()"
   ]
  },
  {
   "cell_type": "code",
   "execution_count": 22,
   "metadata": {},
   "outputs": [
    {
     "data": {
      "text/plain": [
       "<matplotlib.axes._subplots.AxesSubplot at 0x23d347ba7f0>"
      ]
     },
     "execution_count": 22,
     "metadata": {},
     "output_type": "execute_result"
    },
    {
     "data": {
      "image/png": "[encoded data removed]",
      "text/plain": [
       "<Figure size 432x288 with 1 Axes>"
      ]
     },
     "metadata": {
      "needs_background": "light"
     },
     "output_type": "display_data"
    }
   ],
   "source": [
    "df.groupby(['time split'])['Payment Amount'].sum().plot.bar()"
   ]
  },
  {
   "cell_type": "code",
   "execution_count": 23,
   "metadata": {
    "colab": {
     "base_uri": "https://localhost:8080/",
     "height": 195
    },
    "id": "Gdv9_j9SD7pY",
    "outputId": "223a37d8-9620-4899-f225-972e72c8707f"
   },
   "outputs": [
    {
     "name": "stdout",
     "output_type": "stream",
     "text": [
      "  consolidated_profit_centers  Payment Amount\n",
      "0                     Fitness       14773.070\n",
      "1                  Membership       61705.665\n",
      "2             Membership Cash        8413.585\n",
      "3                       Other        1171.850\n",
      "4                      Retail        2464.780\n"
     ]
    }
   ],
   "source": [
    "#What is the $ value of the consolidated profit center “fitness” based on payment date? Filter for payment made at = 8144\n",
    "dff = df[df['Payment Made At']==8144].groupby(['consolidated_profit_centers'])['Payment Amount'].sum().reset_index()\n",
    "print(dff)"
   ]
  },
  {
   "cell_type": "code",
   "execution_count": 24,
   "metadata": {},
   "outputs": [
    {
     "data": {
      "text/plain": [
       "<matplotlib.axes._subplots.AxesSubplot at 0x23d34810630>"
      ]
     },
     "execution_count": 24,
     "metadata": {},
     "output_type": "execute_result"
    },
    {
     "data": {
      "image/png": "[encoded data removed]",
      "text/plain": [
       "<Figure size 1440x1440 with 1 Axes>"
      ]
     },
     "metadata": {
      "needs_background": "light"
     },
     "output_type": "display_data"
    }
   ],
   "source": [
    "fig, ax = plt.subplots()\n",
    "# the size of A4 paper\n",
    "fig.set_size_inches(20,20)\n",
    "\n",
    "sns.barplot(x = 'consolidated_profit_centers' , y = 'Payment Amount', data = dff)"
   ]
  },
  {
   "cell_type": "code",
   "execution_count": 25,
   "metadata": {
    "id": "GthMw2blGphr"
   },
   "outputs": [
    {
     "name": "stdout",
     "output_type": "stream",
     "text": [
      "453\n"
     ]
    },
    {
     "name": "stderr",
     "output_type": "stream",
     "text": [
      "C:\\Users\\admin\\Anaconda3\\lib\\site-packages\\ipykernel_launcher.py:3: UserWarning: Boolean Series key will be reindexed to match DataFrame index.\n",
      "  This is separate from the ipykernel package so we can avoid doing imports until\n"
     ]
    }
   ],
   "source": [
    "#Unique count of agreement numbers in the consolidated profit center “fitness” based on payment date (include unique count of N/A values). Filter for payment made at = 8144\n",
    "dff = df[df['Payment Made At']==8144]\n",
    "print(len(dff[df['consolidated_profit_centers'] == \"Fitness\"]['Agreement Number'].unique()))"
   ]
  },
  {
   "cell_type": "code",
   "execution_count": 26,
   "metadata": {},
   "outputs": [
    {
     "data": {
      "text/plain": [
       "'C:\\\\Users\\\\admin\\\\Downloads\\\\Fitness\\\\Fitness'"
      ]
     },
     "execution_count": 26,
     "metadata": {},
     "output_type": "execute_result"
    }
   ],
   "source": [
    "pwd\n"
   ]
  },
  {
   "cell_type": "code",
   "execution_count": null,
   "metadata": {},
   "outputs": [],
   "source": []
  }
 ],
 "metadata": {
  "colab": {
   "name": "yash_m.ipynb",
   "provenance": []
  },
  "kernelspec": {
   "display_name": "Python 3",
   "language": "python",
   "name": "python3"
  },
  "language_info": {
   "codemirror_mode": {
    "name": "ipython",
    "version": 3
   },
   "file_extension": ".py",
   "mimetype": "text/x-python",
   "name": "python",
   "nbconvert_exporter": "python",
   "pygments_lexer": "ipython3",
   "version": "3.7.1"
  }
 },
 "nbformat": 4,
 "nbformat_minor": 1
}
